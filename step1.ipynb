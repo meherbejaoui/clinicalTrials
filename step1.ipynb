{
 "cells": [
  {
   "cell_type": "code",
   "execution_count": 1,
   "metadata": {
    "collapsed": true
   },
   "outputs": [],
   "source": [
    "class fetch:\n",
    "    def __init__(self, doc):\n",
    "        self.doc = doc\n",
    "    \n",
    "    def ids(self):\n",
    "        try: return self.doc['clinical_study']['id_info']['nct_id']\n",
    "        except: return 'N/A'\n",
    "    def agency(self):\n",
    "        try : return self.doc['clinical_study']['sponsors']['lead_sponsor']['agency']\n",
    "        except: return 'N/A'\n",
    "    def brief_summary(self):\n",
    "        try: return self.doc['clinical_study']['brief_summary']['textblock']\n",
    "        except: return 'N/A'\n",
    "    def overall_status(self):\n",
    "        try: return self.doc['clinical_study']['overall_status']\n",
    "        except: return 'N/A'\n",
    "    def study_type(self):\n",
    "        try: return self.doc['clinical_study']['study_type']\n",
    "        except: return 'N/A'\n",
    "    def condition(self):\n",
    "        try: return self.doc['clinical_study']['condition']\n",
    "        except: return 'N/A'\n",
    "    def gender(self):\n",
    "        try: return self.doc['clinical_study']['eligibility']['gender']\n",
    "        except: return 'N/A'"
   ]
  },
  {
   "cell_type": "code",
   "execution_count": 2,
   "metadata": {},
   "outputs": [
    {
     "data": {
      "text/plain": [
       "<sqlite3.Cursor at 0x4772a40>"
      ]
     },
     "execution_count": 2,
     "metadata": {},
     "output_type": "execute_result"
    }
   ],
   "source": [
    "import sqlite3\n",
    "conn = sqlite3.connect('data.db')\n",
    "cur = conn.cursor()\n",
    "cur.executescript('''\n",
    "DROP TABLE IF EXISTS agency;\n",
    "DROP TABLE IF EXISTS briefsummary;\n",
    "DROP TABLE IF EXISTS overallstatus;\n",
    "DROP TABLE IF EXISTS studytype;\n",
    "DROP TABLE IF EXISTS gender; ''')\n",
    "# DROP TABLE IF EXISTS condition;\n",
    "\n",
    "cur.execute('''CREATE TABLE agency (ids TEXT, agencyname TEXT)''')\n",
    "cur.execute('''CREATE TABLE briefsummary (ids TEXT, summary TEXT)''')\n",
    "cur.execute('''CREATE TABLE overallstatus (ids TEXT, status TEXT)''')\n",
    "cur.execute('''CREATE TABLE studytype (ids TEXT, type TEXT)''')\n",
    "#cur.execute('''CREATE TABLE condition (ids TEXT, conditionname)''')\n",
    "cur.execute('''CREATE TABLE gender (ids TEXT, genderdesc TEXT)''')"
   ]
  },
  {
   "cell_type": "code",
   "execution_count": 3,
   "metadata": {
    "collapsed": true
   },
   "outputs": [],
   "source": [
    "import os\n",
    "import fnmatch\n",
    "files = []\n",
    "for root, dirnames, filenames in os.walk(os.getcwd()):\n",
    "    for filename in fnmatch.filter(filenames, '*.xml'):\n",
    "        files.append(os.path.join(root, filename))\n",
    "\n",
    "# len(files)\n",
    "\n",
    "import xmltodict\n",
    "\n",
    "for file in files:\n",
    "    with open(file) as fd:\n",
    "        try:\n",
    "            doc = xmltodict.parse(fd.read())\n",
    "        except:\n",
    "            continue\n",
    "    new = fetch(doc)\n",
    "    ids = new.ids()\n",
    "    cur.execute('''INSERT INTO agency (ids, agencyname) VALUES ( ?, ? )''', (ids, new.agency()) )\n",
    "    cur.execute('''INSERT INTO briefsummary (ids, summary) VALUES ( ?, ? )''', (ids, new.brief_summary()) )\n",
    "    cur.execute('''INSERT INTO overallstatus (ids, status) VALUES ( ?, ? )''', (ids, new.overall_status()) )\n",
    "    cur.execute('''INSERT INTO studytype (ids, type) VALUES ( ?, ? )''', (ids, new.study_type()) )\n",
    "    #cur.execute('''INSERT INTO condition (ids, conditionname) VALUES ( ?, ? )''', (ids, new.condition()) )\n",
    "    cur.execute('''INSERT INTO gender (ids, genderdesc) VALUES ( ?, ? )''', (ids, new.gender()) )\n",
    "try:\n",
    "    conn.commit()\n",
    "except:\n",
    "    pass\n",
    "cur.close()"
   ]
  },
  {
   "cell_type": "code",
   "execution_count": null,
   "metadata": {
    "collapsed": true
   },
   "outputs": [],
   "source": []
  }
 ],
 "metadata": {
  "kernelspec": {
   "display_name": "Python 3",
   "language": "python",
   "name": "python3"
  },
  "language_info": {
   "codemirror_mode": {
    "name": "ipython",
    "version": 3
   },
   "file_extension": ".py",
   "mimetype": "text/x-python",
   "name": "python",
   "nbconvert_exporter": "python",
   "pygments_lexer": "ipython3",
   "version": "3.5.3"
  }
 },
 "nbformat": 4,
 "nbformat_minor": 2
}
