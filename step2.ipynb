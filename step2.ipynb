{
 "cells": [
  {
   "cell_type": "code",
   "execution_count": null,
   "metadata": {
    "collapsed": true
   },
   "outputs": [],
   "source": [
    "import sqlite3\n",
    "conn = sqlite3.connect('data.db')\n",
    "cur = conn.cursor()\n",
    "\n",
    "import graph_tool as gt\n",
    "\n",
    "g = gt.Graph(directed = True)\n",
    "\n",
    "ids_vertex_dict = dict()\n",
    "for pair in cur.execute('''SELECT ids, agencyname FROM agency'''):\n",
    "    if pair[0] not in ids_vertex_dict:\n",
    "        v = g.add_vertex()\n",
    "        ids_vertex_dict[pair[0]] = int(v)\n",
    "    if pair[1] not in ids_vertex_dict:\n",
    "        v = g.add_vertex()\n",
    "        ids_vertex_dict[pair[1]] = int(v)\n",
    "    g.add_edge(ids_vertex_dict[pair[0]], ids_vertex_dict[pair[1]])\n",
    "    \n",
    "import cPickle as pickle\n",
    "pickle.dump(g, open(\"full_graph.p\", \"wb\"))\n",
    "pickle.dump(ids_vertex_dict, open(\"full_graph_ids_vertex_dict.p\", \"wb\"))\n",
    "\n",
    "g = pickle.load(open(\"full_graph.p\", \"rb\"))\n",
    "#ids_vertex_dict = pickle.load(open(\"full_graph_ids_vertex_dict.p\", \"rb\"))"
   ]
  },
  {
   "cell_type": "code",
   "execution_count": null,
   "metadata": {
    "collapsed": true
   },
   "outputs": [],
   "source": [
    "import matplotlib.pyplot as plt\n",
    "import numpy as np\n",
    "\n",
    "indegree = []\n",
    "for vertex in g.vertices():\n",
    "    indegree.append(vertex.in_degree())\n",
    "plt.hist(indegree, np.arange(-100,250,20), log = True)\n",
    "plt.savefig('in_degree.png')"
   ]
  },
  {
   "cell_type": "markdown",
   "metadata": {},
   "source": [
    "![in](in_degree.png)"
   ]
  },
  {
   "cell_type": "code",
   "execution_count": null,
   "metadata": {
    "collapsed": true
   },
   "outputs": [],
   "source": [
    "plt.clf()\n",
    "outdegree = []\n",
    "for vertex in g.vertices():\n",
    "    outdegree.append(vertex.out_degree())\n",
    "plt.hist(outdegree, np.arange(-10,50,10), log = True)\n",
    "plt.savefig('out_degree.png')"
   ]
  },
  {
   "cell_type": "markdown",
   "metadata": {},
   "source": [
    "![out](out_degree.png)"
   ]
  }
 ],
 "metadata": {
  "kernelspec": {
   "display_name": "Python 2",
   "language": "python",
   "name": "python2"
  },
  "language_info": {
   "codemirror_mode": {
    "name": "ipython",
    "version": 2
   },
   "file_extension": ".py",
   "mimetype": "text/x-python",
   "name": "python",
   "nbconvert_exporter": "python",
   "pygments_lexer": "ipython2",
   "version": "2.7.14"
  }
 },
 "nbformat": 4,
 "nbformat_minor": 2
}
